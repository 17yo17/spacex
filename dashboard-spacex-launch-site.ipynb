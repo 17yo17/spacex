{
    "cells": [
        {
            "cell_type": "markdown",
            "id": "6012c888",
            "metadata": {},
            "source": "Run these commands in Terminal\n\n- python3.8 -m pip install pandas dash\n\n- wget \"https://cf-courses-data.s3.us.cloud-object-storage.appdomain.cloud/IBM-DS0321EN-SkillsNetwork/datasets/spacex_launch_dash.csv\"\n\n- wget \"https://cf-courses-data.s3.us.cloud-object-storage.appdomain.cloud/IBM-DS0321EN-SkillsNetwork/labs/module_3/spacex_dash_app.py\"\n\n- python3.8 spacex_dash_app.py"
        },
        {
            "cell_type": "code",
            "execution_count": null,
            "id": "79efedab",
            "metadata": {},
            "outputs": [
                {
                    "name": "stderr",
                    "output_type": "stream",
                    "text": "/var/folders/yz/n1bywkv948z8dtg_gnssrtc80000gn/T/ipykernel_55466/1882385454.py:4: UserWarning: \nThe dash_html_components package is deprecated. Please replace\n`import dash_html_components as html` with `from dash import html`\n  import dash_html_components as html\n/var/folders/yz/n1bywkv948z8dtg_gnssrtc80000gn/T/ipykernel_55466/1882385454.py:5: UserWarning: \nThe dash_core_components package is deprecated. Please replace\n`import dash_core_components as dcc` with `from dash import dcc`\n  import dash_core_components as dcc\n"
                },
                {
                    "name": "stdout",
                    "output_type": "stream",
                    "text": "Dash is running on http://127.0.0.1:8050/\n\n * Serving Flask app '__main__'\n * Debug mode: off\n"
                },
                {
                    "name": "stderr",
                    "output_type": "stream",
                    "text": "WARNING: This is a development server. Do not use it in a production deployment. Use a production WSGI server instead.\n * Running on http://127.0.0.1:8050\nPress CTRL+C to quit\n127.0.0.1 - - [02/Jun/2023 13:23:14] \"GET / HTTP/1.1\" 200 -\n127.0.0.1 - - [02/Jun/2023 13:23:14] \"GET /_dash-layout HTTP/1.1\" 200 -\n127.0.0.1 - - [02/Jun/2023 13:23:14] \"GET /_dash-dependencies HTTP/1.1\" 200 -\n127.0.0.1 - - [02/Jun/2023 13:23:14] \"GET /_dash-component-suites/dash/dcc/async-dropdown.js HTTP/1.1\" 304 -\n127.0.0.1 - - [02/Jun/2023 13:23:14] \"GET /_dash-component-suites/dash/dcc/async-graph.js HTTP/1.1\" 304 -\n127.0.0.1 - - [02/Jun/2023 13:23:14] \"GET /_dash-component-suites/dash/dcc/async-slider.js HTTP/1.1\" 304 -\n127.0.0.1 - - [02/Jun/2023 13:23:14] \"GET /_dash-component-suites/dash/dcc/async-plotlyjs.js HTTP/1.1\" 200 -\n127.0.0.1 - - [02/Jun/2023 13:23:14] \"POST /_dash-update-component HTTP/1.1\" 200 -\n127.0.0.1 - - [02/Jun/2023 13:23:14] \"POST /_dash-update-component HTTP/1.1\" 200 -\n127.0.0.1 - - [02/Jun/2023 13:23:19] \"POST /_dash-update-component HTTP/1.1\" 200 -\n127.0.0.1 - - [02/Jun/2023 13:23:19] \"POST /_dash-update-component HTTP/1.1\" 200 -\n"
                }
            ],
            "source": "# Import required libraries\nimport pandas as pd\nimport dash\nimport dash_html_components as html\nimport dash_core_components as dcc\nfrom dash.dependencies import Input, Output\nimport plotly.express as px\n\n# Read the airline data into pandas dataframe\nspacex_df = pd.read_csv(\"spacex_launch_dash.csv\")\nmax_payload = spacex_df['Payload Mass (kg)'].max()\nmin_payload = spacex_df['Payload Mass (kg)'].min()\n\n# Create a dash application\napp = dash.Dash(__name__)\n\n# Create an app layout\napp.layout = html.Div(children=[html.H1('SpaceX Launch Records Dashboard',\n                                        style={'textAlign': 'center', 'color': '#503D36',\n                                               'font-size': 40}\n                                       ),\n                                # TASK 1: Add a dropdown list to enable Launch Site selection\n                                # The default select value is for ALL sites\n                                # dcc.Dropdown(id='site-dropdown',...)\n                                dcc.Dropdown(id='site-dropdown',\n                                             options=[\n                                                 {'label': 'All Sites', 'value': 'ALL'},\n                                                 {'label': 'CCAFS LC-40', 'value': 'CCAFS LC-40'},\n                                                 {'label': 'VAFB SLC-4E', 'value': 'VAFB SLC-4E'},\n                                                 {'label': 'KSC LC-39A', 'value': 'KSC LC-39A'},\n                                                 {'label': 'CCAFS SLC-40', 'value': 'CCAFS SLC-40'}\n                                             ],\n                                             value='ALL',\n                                             placeholder=\"Select a Launch Site here\",\n                                             searchable=True\n                                            ),\n                                html.Br(),\n\n                                # TASK 2: Add a pie chart to show the total successful launches count for all sites\n                                # If a specific launch site was selected, show the Success vs. Failed counts for the site\n                                html.Div(dcc.Graph(id='success-pie-chart')),\n                                html.Br(),\n\n                                html.P(\"Payload range (Kg):\"),\n                                # TASK 3: Add a slider to select payload range\n                                #dcc.RangeSlider(id='payload-slider',...)\n                                dcc.RangeSlider(id='payload-slider',\n                                                min=0, max=10000, step=1000,\n                                                marks={0: '0',\n                                                       2500: '2500',\n                                                       5000: '5000',\n                                                       7500: '7500',\n                                                       10000: '10000'},\n                                                value=[min_payload, max_payload]),\n                                # TASK 4: Add a scatter chart to show the correlation between payload and launch success\n                                html.Div(dcc.Graph(id='success-payload-scatter-chart')),\n                                ])\n\n# TASK 2:\n# Add a callback function for `site-dropdown` as input, `success-pie-chart` as output\n# Function decorator to specify function input and output\n@app.callback(Output(component_id='success-pie-chart', component_property='figure'),\n              Input(component_id='site-dropdown', component_property='value'))\ndef get_pie_chart(entered_site):\n    filtered_df = spacex_df[spacex_df['Launch Site']==entered_site]\n    if entered_site == 'ALL':\n        fig = px.pie(spacex_df, values='class', \n        names='Launch Site', \n        title='Total Success Launches by Sites')\n        return fig\n    else:\n        filtered_df = filtered_df.groupby(['class'])['class'].count().reset_index(name='count')\n        fig = px.pie(filtered_df, values='count', \n        names='class', \n        title= f'Total Success Launches for site {entered_site}')\n        return fig\n        # return the outcomes piechart for a selected site\n\n###########################################################################################################  \n\n#######################            ##########################################            ##########################################        \n\n###########################################################################################################        \n\n# TASK 4:\n# Add a callback function for `site-dropdown` and `payload-slider` as inputs, `success-payload-scatter-chart` as output\n@app.callback(Output(component_id='success-payload-scatter-chart', component_property='figure'),\n              [Input(component_id='site-dropdown', component_property='value'),\n               Input(component_id='payload-slider', component_property='value')])\n\ndef get_scatter_chart(entered_site, entered_payload):\n    filtered_df = spacex_df[spacex_df['Payload Mass (kg)'].between(entered_payload[0],entered_payload[1])]\n    if entered_site == 'ALL':\n        fig = px.scatter(filtered_df, x='Payload Mass (kg)', y='class',\n                         color=\"Booster Version Category\",\n                         title='Correlation Between Payload and All Sites')\n        return fig\n    else:\n        filtered_df = filtered_df[filtered_df['Launch Site']==entered_site]\n        fig = px.scatter(filtered_df, x='Payload Mass (kg)', y='class', \n                         color=\"Booster Version Category\",\n                         title= f'Correlation Between Payload and {entered_site}')\n        return fig\n\n# Run the app\nif __name__ == '__main__':\n    app.run_server()\n\n\n"
        },
        {
            "cell_type": "code",
            "execution_count": null,
            "id": "039ca153",
            "metadata": {},
            "outputs": [],
            "source": ""
        },
        {
            "cell_type": "code",
            "execution_count": null,
            "id": "c4d7d919",
            "metadata": {},
            "outputs": [],
            "source": ""
        }
    ],
    "metadata": {
        "kernelspec": {
            "display_name": "Python 3 (ipykernel)",
            "language": "python",
            "name": "python3"
        },
        "language_info": {
            "codemirror_mode": {
                "name": "ipython",
                "version": 3
            },
            "file_extension": ".py",
            "mimetype": "text/x-python",
            "name": "python",
            "nbconvert_exporter": "python",
            "pygments_lexer": "ipython3",
            "version": "3.9.12"
        }
    },
    "nbformat": 4,
    "nbformat_minor": 5
}